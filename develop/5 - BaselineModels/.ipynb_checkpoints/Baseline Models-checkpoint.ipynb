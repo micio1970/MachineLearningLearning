{
 "cells": [
  {
   "cell_type": "markdown",
   "metadata": {},
   "source": [
    "# Random prediction algorithm"
   ]
  },
  {
   "cell_type": "code",
   "execution_count": 6,
   "metadata": {},
   "outputs": [
    {
     "name": "stdout",
     "output_type": "stream",
     "text": [
      "[0, 0, 1, 0]\n"
     ]
    }
   ],
   "source": [
    "# Example of Making Random Predictions\n",
    "from random import seed\n",
    "from random import randrange\n",
    "\n",
    "# Generate random predictions\n",
    "def random_algorithm(train, test):\n",
    "    output_values = [row[-1] for row in train]\n",
    "    unique = list(set(output_values))\n",
    "    predicted = list()\n",
    "    for row in test:\n",
    "        index = randrange(len(unique))\n",
    "        predicted.append(unique[index])\n",
    "    return predicted\n",
    "\n",
    "seed(1)\n",
    "train = [[0], [1], [0], [1], [0], [1]]\n",
    "test = [[None], [None], [None], [None]]\n",
    "predictions = random_algorithm(train, test)\n",
    "print(predictions)"
   ]
  },
  {
   "cell_type": "markdown",
   "metadata": {},
   "source": [
    "# Zero Rule Classification Predictions"
   ]
  },
  {
   "cell_type": "code",
   "execution_count": 9,
   "metadata": {},
   "outputs": [
    {
     "name": "stdout",
     "output_type": "stream",
     "text": [
      "['0', '0', '0', '0']\n"
     ]
    }
   ],
   "source": [
    "# Example of Zero Rule Classification Predictions\n",
    "from random import seed\n",
    "from random import randrange\n",
    "\n",
    "# zero rule algorithm for classification\n",
    "def zero_rule_algorithm_classification(train, test):\n",
    "    output_values = [row[-1] for row in train]\n",
    "    prediction = max(set(output_values), key=output_values.count)\n",
    "    predicted = [prediction for i in range(len(test))]\n",
    "    return predicted\n",
    "\n",
    "seed(1)\n",
    "train = [['0'], ['0'], ['0'], ['0'], ['1'], ['1']]\n",
    "test = [[None], [None], [None], [None]]\n",
    "predictions = zero_rule_algorithm_classification(train, test)\n",
    "print(predictions)"
   ]
  },
  {
   "cell_type": "markdown",
   "metadata": {},
   "source": [
    "# Zero Rule Regression Predictions"
   ]
  },
  {
   "cell_type": "code",
   "execution_count": 11,
   "metadata": {},
   "outputs": [
    {
     "name": "stdout",
     "output_type": "stream",
     "text": [
      "[15.0, 15.0, 15.0, 15.0]\n"
     ]
    }
   ],
   "source": [
    "# Example of Zero Rule Regression Predictions\n",
    "from random import seed\n",
    "from random import randrange\n",
    "\n",
    "# zero rule algorithm for regression\n",
    "def zero_rule_algorithm_regression(train, test):\n",
    "    output_values = [row[-1] for row in train]\n",
    "    prediction = sum(output_values) / float(len(output_values))\n",
    "    predicted = [prediction for i in range(len(test))]\n",
    "    return predicted\n",
    "\n",
    "seed(1)\n",
    "train = [[10], [15], [12], [15], [18], [20]]\n",
    "test = [[None], [None], [None], [None]]\n",
    "predictions = zero_rule_algorithm_regression(train, test)\n",
    "print(predictions)"
   ]
  },
  {
   "cell_type": "code",
   "execution_count": null,
   "metadata": {
    "collapsed": true
   },
   "outputs": [],
   "source": []
  }
 ],
 "metadata": {
  "anaconda-cloud": {},
  "kernelspec": {
   "display_name": "Python [conda root]",
   "language": "python",
   "name": "conda-root-py"
  },
  "language_info": {
   "codemirror_mode": {
    "name": "ipython",
    "version": 3
   },
   "file_extension": ".py",
   "mimetype": "text/x-python",
   "name": "python",
   "nbconvert_exporter": "python",
   "pygments_lexer": "ipython3",
   "version": "3.5.3"
  }
 },
 "nbformat": 4,
 "nbformat_minor": 2
}
